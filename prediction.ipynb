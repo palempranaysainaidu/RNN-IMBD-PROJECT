{
 "cells": [
  {
   "cell_type": "code",
   "execution_count": null,
   "metadata": {},
   "outputs": [],
   "source": [
    "# Step 1: Import Libraries and Load the Model\n",
    "import numpy as np\n",
    "import tensorflow as tf\n",
    "from keras.datasets import imdb\n",
    "from keras.preprocessing import sequence\n",
    "from keras.models import load_model"
   ]
  },
  {
   "cell_type": "code",
   "execution_count": 9,
   "metadata": {},
   "outputs": [],
   "source": [
    "\n",
    "# Load the IMDB dataset word index\n",
    "word_index = imdb.get_word_index()\n",
    "reverse_word_index = {value: key for key, value in word_index.items()}"
   ]
  },
  {
   "cell_type": "code",
   "execution_count": 10,
   "metadata": {},
   "outputs": [
    {
     "name": "stderr",
     "output_type": "stream",
     "text": [
      "WARNING:absl:Compiled the loaded model, but the compiled metrics have yet to be built. `model.compile_metrics` will be empty until you train or evaluate the model.\n"
     ]
    },
    {
     "data": {
      "text/html": [
       "<pre style=\"white-space:pre;overflow-x:auto;line-height:normal;font-family:Menlo,'DejaVu Sans Mono',consolas,'Courier New',monospace\"><span style=\"font-weight: bold\">Model: \"sequential_1\"</span>\n",
       "</pre>\n"
      ],
      "text/plain": [
       "\u001b[1mModel: \"sequential_1\"\u001b[0m\n"
      ]
     },
     "metadata": {},
     "output_type": "display_data"
    },
    {
     "data": {
      "text/html": [
       "<pre style=\"white-space:pre;overflow-x:auto;line-height:normal;font-family:Menlo,'DejaVu Sans Mono',consolas,'Courier New',monospace\">┏━━━━━━━━━━━━━━━━━━━━━━━━━━━━━━━━━┳━━━━━━━━━━━━━━━━━━━━━━━━┳━━━━━━━━━━━━━━━┓\n",
       "┃<span style=\"font-weight: bold\"> Layer (type)                    </span>┃<span style=\"font-weight: bold\"> Output Shape           </span>┃<span style=\"font-weight: bold\">       Param # </span>┃\n",
       "┡━━━━━━━━━━━━━━━━━━━━━━━━━━━━━━━━━╇━━━━━━━━━━━━━━━━━━━━━━━━╇━━━━━━━━━━━━━━━┩\n",
       "│ embedding_1 (<span style=\"color: #0087ff; text-decoration-color: #0087ff\">Embedding</span>)         │ (<span style=\"color: #00af00; text-decoration-color: #00af00\">32</span>, <span style=\"color: #00af00; text-decoration-color: #00af00\">500</span>, <span style=\"color: #00af00; text-decoration-color: #00af00\">128</span>)         │     <span style=\"color: #00af00; text-decoration-color: #00af00\">1,280,000</span> │\n",
       "├─────────────────────────────────┼────────────────────────┼───────────────┤\n",
       "│ simple_rnn_1 (<span style=\"color: #0087ff; text-decoration-color: #0087ff\">SimpleRNN</span>)        │ (<span style=\"color: #00af00; text-decoration-color: #00af00\">32</span>, <span style=\"color: #00af00; text-decoration-color: #00af00\">128</span>)              │        <span style=\"color: #00af00; text-decoration-color: #00af00\">32,896</span> │\n",
       "├─────────────────────────────────┼────────────────────────┼───────────────┤\n",
       "│ dense_1 (<span style=\"color: #0087ff; text-decoration-color: #0087ff\">Dense</span>)                 │ (<span style=\"color: #00af00; text-decoration-color: #00af00\">32</span>, <span style=\"color: #00af00; text-decoration-color: #00af00\">1</span>)                │           <span style=\"color: #00af00; text-decoration-color: #00af00\">129</span> │\n",
       "└─────────────────────────────────┴────────────────────────┴───────────────┘\n",
       "</pre>\n"
      ],
      "text/plain": [
       "┏━━━━━━━━━━━━━━━━━━━━━━━━━━━━━━━━━┳━━━━━━━━━━━━━━━━━━━━━━━━┳━━━━━━━━━━━━━━━┓\n",
       "┃\u001b[1m \u001b[0m\u001b[1mLayer (type)                   \u001b[0m\u001b[1m \u001b[0m┃\u001b[1m \u001b[0m\u001b[1mOutput Shape          \u001b[0m\u001b[1m \u001b[0m┃\u001b[1m \u001b[0m\u001b[1m      Param #\u001b[0m\u001b[1m \u001b[0m┃\n",
       "┡━━━━━━━━━━━━━━━━━━━━━━━━━━━━━━━━━╇━━━━━━━━━━━━━━━━━━━━━━━━╇━━━━━━━━━━━━━━━┩\n",
       "│ embedding_1 (\u001b[38;5;33mEmbedding\u001b[0m)         │ (\u001b[38;5;34m32\u001b[0m, \u001b[38;5;34m500\u001b[0m, \u001b[38;5;34m128\u001b[0m)         │     \u001b[38;5;34m1,280,000\u001b[0m │\n",
       "├─────────────────────────────────┼────────────────────────┼───────────────┤\n",
       "│ simple_rnn_1 (\u001b[38;5;33mSimpleRNN\u001b[0m)        │ (\u001b[38;5;34m32\u001b[0m, \u001b[38;5;34m128\u001b[0m)              │        \u001b[38;5;34m32,896\u001b[0m │\n",
       "├─────────────────────────────────┼────────────────────────┼───────────────┤\n",
       "│ dense_1 (\u001b[38;5;33mDense\u001b[0m)                 │ (\u001b[38;5;34m32\u001b[0m, \u001b[38;5;34m1\u001b[0m)                │           \u001b[38;5;34m129\u001b[0m │\n",
       "└─────────────────────────────────┴────────────────────────┴───────────────┘\n"
      ]
     },
     "metadata": {},
     "output_type": "display_data"
    },
    {
     "data": {
      "text/html": [
       "<pre style=\"white-space:pre;overflow-x:auto;line-height:normal;font-family:Menlo,'DejaVu Sans Mono',consolas,'Courier New',monospace\"><span style=\"font-weight: bold\"> Total params: </span><span style=\"color: #00af00; text-decoration-color: #00af00\">1,313,027</span> (5.01 MB)\n",
       "</pre>\n"
      ],
      "text/plain": [
       "\u001b[1m Total params: \u001b[0m\u001b[38;5;34m1,313,027\u001b[0m (5.01 MB)\n"
      ]
     },
     "metadata": {},
     "output_type": "display_data"
    },
    {
     "data": {
      "text/html": [
       "<pre style=\"white-space:pre;overflow-x:auto;line-height:normal;font-family:Menlo,'DejaVu Sans Mono',consolas,'Courier New',monospace\"><span style=\"font-weight: bold\"> Trainable params: </span><span style=\"color: #00af00; text-decoration-color: #00af00\">1,313,025</span> (5.01 MB)\n",
       "</pre>\n"
      ],
      "text/plain": [
       "\u001b[1m Trainable params: \u001b[0m\u001b[38;5;34m1,313,025\u001b[0m (5.01 MB)\n"
      ]
     },
     "metadata": {},
     "output_type": "display_data"
    },
    {
     "data": {
      "text/html": [
       "<pre style=\"white-space:pre;overflow-x:auto;line-height:normal;font-family:Menlo,'DejaVu Sans Mono',consolas,'Courier New',monospace\"><span style=\"font-weight: bold\"> Non-trainable params: </span><span style=\"color: #00af00; text-decoration-color: #00af00\">0</span> (0.00 B)\n",
       "</pre>\n"
      ],
      "text/plain": [
       "\u001b[1m Non-trainable params: \u001b[0m\u001b[38;5;34m0\u001b[0m (0.00 B)\n"
      ]
     },
     "metadata": {},
     "output_type": "display_data"
    },
    {
     "data": {
      "text/html": [
       "<pre style=\"white-space:pre;overflow-x:auto;line-height:normal;font-family:Menlo,'DejaVu Sans Mono',consolas,'Courier New',monospace\"><span style=\"font-weight: bold\"> Optimizer params: </span><span style=\"color: #00af00; text-decoration-color: #00af00\">2</span> (12.00 B)\n",
       "</pre>\n"
      ],
      "text/plain": [
       "\u001b[1m Optimizer params: \u001b[0m\u001b[38;5;34m2\u001b[0m (12.00 B)\n"
      ]
     },
     "metadata": {},
     "output_type": "display_data"
    }
   ],
   "source": [
    "model=load_model('simple_rnn_imdb.h5')\n",
    "model.summary()"
   ]
  },
  {
   "cell_type": "code",
   "execution_count": 11,
   "metadata": {},
   "outputs": [
    {
     "data": {
      "text/plain": [
       "[array([[-0.16726866, -1.2943823 ,  1.148328  , ..., -0.26613924,\n",
       "          0.01021711,  0.19279385],\n",
       "        [-0.05284018, -0.06751679,  0.06806771, ...,  0.03954104,\n",
       "          0.01200652,  0.01792623],\n",
       "        [-0.15810345, -0.16731107,  0.1297672 , ..., -0.13947143,\n",
       "         -0.13334867,  0.07357108],\n",
       "        ...,\n",
       "        [-0.03530569, -0.00799122, -0.04222553, ...,  0.059064  ,\n",
       "          0.0420364 ,  0.10002802],\n",
       "        [-0.02852357, -0.06192624, -0.00500814, ..., -0.00908826,\n",
       "         -0.03834546, -0.04765124],\n",
       "        [ 0.08494895,  0.00863429,  0.04560338, ...,  0.05043645,\n",
       "         -0.10343421, -0.05517345]], dtype=float32),\n",
       " array([[-0.13805616,  0.08660053, -0.04124219, ...,  0.05020758,\n",
       "          0.17508942,  0.03423756],\n",
       "        [-0.08158458, -0.18547706,  0.14646383, ...,  0.02269473,\n",
       "          0.12704687,  0.13357835],\n",
       "        [-0.08999842, -0.10216238, -0.10837713, ..., -0.15064801,\n",
       "          0.08316891, -0.00770597],\n",
       "        ...,\n",
       "        [-0.11228113, -0.08612928,  0.06199598, ..., -0.02124276,\n",
       "          0.15591523,  0.14055656],\n",
       "        [-0.03506821, -0.01625927, -0.0340173 , ...,  0.12871437,\n",
       "          0.01861165,  0.00630676],\n",
       "        [ 0.08175206,  0.01002003,  0.04830732, ...,  0.02965375,\n",
       "         -0.1468778 , -0.05327624]], dtype=float32),\n",
       " array([[-0.01147601,  0.00577173,  0.10527154, ..., -0.10068616,\n",
       "         -0.05122285, -0.0801587 ],\n",
       "        [ 0.03212221,  0.10260309, -0.12451261, ..., -0.10038874,\n",
       "         -0.13971493, -0.06668657],\n",
       "        [-0.01386523,  0.06278957,  0.19347279, ..., -0.2114749 ,\n",
       "         -0.10014491,  0.01997066],\n",
       "        ...,\n",
       "        [ 0.0213175 ,  0.05169859,  0.08533385, ...,  0.0085018 ,\n",
       "         -0.0113557 , -0.03459256],\n",
       "        [ 0.01630914, -0.0029759 , -0.0063638 , ...,  0.10755267,\n",
       "         -0.03788841,  0.01388719],\n",
       "        [-0.12474437,  0.01266387,  0.1005222 , ...,  0.14119129,\n",
       "         -0.15793651,  0.0378282 ]], dtype=float32),\n",
       " array([ 0.02013408,  0.0340454 , -0.03720366, -0.02165401, -0.05349733,\n",
       "         0.02122925,  0.00641564,  0.02699678, -0.02193848, -0.0318109 ,\n",
       "        -0.01698422,  0.00130302, -0.01455927,  0.00039153, -0.00513164,\n",
       "         0.02525576,  0.01972857, -0.02276204,  0.01772729, -0.02413173,\n",
       "        -0.03113272,  0.01292579, -0.03531068,  0.02452338, -0.01368458,\n",
       "        -0.03269251, -0.02624177, -0.02414967,  0.0175026 , -0.01940959,\n",
       "         0.02225783, -0.03037043, -0.00758132, -0.02363348,  0.01891413,\n",
       "        -0.02247893, -0.0226727 , -0.05189942, -0.03225075,  0.01851255,\n",
       "         0.03641991, -0.02566509,  0.01640246,  0.01131949,  0.03148781,\n",
       "         0.00840299, -0.00964031,  0.00065997, -0.0229084 , -0.03965696,\n",
       "         0.00255815, -0.02814025, -0.03951162, -0.01426462,  0.02103874,\n",
       "         0.01626092,  0.03441041, -0.04351947, -0.02312539,  0.01547975,\n",
       "         0.00196324, -0.01701384,  0.03063491, -0.0249989 , -0.02897188,\n",
       "        -0.0281644 ,  0.01907156,  0.00562482, -0.03564654,  0.02518138,\n",
       "         0.01600199,  0.02862288, -0.03722046,  0.0197792 , -0.03667094,\n",
       "        -0.00861117,  0.0204843 , -0.02419391,  0.01277062, -0.00219928,\n",
       "         0.01919201, -0.04264609,  0.01841253, -0.03425056,  0.00037559,\n",
       "         0.01020466,  0.03225813, -0.00399404, -0.00829125,  0.00233154,\n",
       "        -0.02463652, -0.01727963,  0.0278313 ,  0.01663849, -0.01175646,\n",
       "         0.01708335, -0.00508757, -0.00538232,  0.02612905, -0.02222261,\n",
       "        -0.02313732,  0.02176242, -0.03001545, -0.00734148,  0.02589095,\n",
       "        -0.00901088, -0.00579093,  0.00591697, -0.0391348 ,  0.03253499,\n",
       "         0.00507719, -0.00399192, -0.04320128,  0.04677003, -0.00500805,\n",
       "        -0.0320734 , -0.02021136,  0.01999897,  0.03101273, -0.01581369,\n",
       "         0.02041692,  0.00264105, -0.03254065, -0.02584582, -0.0082527 ,\n",
       "         0.01366907, -0.00175627,  0.00968957], dtype=float32),\n",
       " array([[-0.0333682 ],\n",
       "        [-0.13400245],\n",
       "        [ 0.05927113],\n",
       "        [ 0.54991627],\n",
       "        [ 0.05396284],\n",
       "        [-0.19222999],\n",
       "        [ 0.2506234 ],\n",
       "        [ 0.13052805],\n",
       "        [ 0.18101381],\n",
       "        [ 0.10958044],\n",
       "        [ 0.15595455],\n",
       "        [ 0.05592568],\n",
       "        [-0.18003094],\n",
       "        [-0.14940542],\n",
       "        [ 0.1655038 ],\n",
       "        [-0.17311838],\n",
       "        [-0.0908299 ],\n",
       "        [ 0.169888  ],\n",
       "        [-0.2170656 ],\n",
       "        [ 0.10894367],\n",
       "        [ 0.19501965],\n",
       "        [ 0.06066578],\n",
       "        [ 0.09018461],\n",
       "        [-0.18724573],\n",
       "        [ 0.1413983 ],\n",
       "        [ 0.17177458],\n",
       "        [ 0.02444041],\n",
       "        [ 0.33071527],\n",
       "        [-0.04376155],\n",
       "        [ 0.18585695],\n",
       "        [-0.20427716],\n",
       "        [-0.07756328],\n",
       "        [ 0.08567835],\n",
       "        [ 0.06333129],\n",
       "        [ 0.24534926],\n",
       "        [ 0.19035137],\n",
       "        [-0.07381725],\n",
       "        [-0.02099704],\n",
       "        [ 0.0846543 ],\n",
       "        [-0.13188411],\n",
       "        [-0.16351807],\n",
       "        [ 0.18592282],\n",
       "        [-0.15362486],\n",
       "        [-0.20655155],\n",
       "        [-0.07178541],\n",
       "        [-0.05710671],\n",
       "        [ 0.11624924],\n",
       "        [ 0.18306993],\n",
       "        [ 0.12578148],\n",
       "        [ 0.02999941],\n",
       "        [ 0.16894072],\n",
       "        [ 0.14798911],\n",
       "        [-0.20043953],\n",
       "        [ 0.17938219],\n",
       "        [-0.20403114],\n",
       "        [-0.09453327],\n",
       "        [ 0.0489887 ],\n",
       "        [ 0.08338437],\n",
       "        [ 0.16235705],\n",
       "        [-0.0246531 ],\n",
       "        [-0.2688298 ],\n",
       "        [ 0.08358438],\n",
       "        [-0.15573771],\n",
       "        [ 0.16862182],\n",
       "        [ 0.22997174],\n",
       "        [-0.07488365],\n",
       "        [ 0.21170916],\n",
       "        [-0.0994216 ],\n",
       "        [ 0.52371824],\n",
       "        [-0.03678939],\n",
       "        [ 0.06256931],\n",
       "        [-0.167005  ],\n",
       "        [ 0.14346497],\n",
       "        [-0.17285384],\n",
       "        [ 0.19271582],\n",
       "        [-0.19872785],\n",
       "        [ 0.1162755 ],\n",
       "        [-0.14136772],\n",
       "        [-0.06262262],\n",
       "        [-0.2053159 ],\n",
       "        [ 0.6425724 ],\n",
       "        [-0.02130705],\n",
       "        [-0.2143285 ],\n",
       "        [ 0.02281127],\n",
       "        [ 0.01645774],\n",
       "        [ 0.16097148],\n",
       "        [-0.0726894 ],\n",
       "        [ 0.07490262],\n",
       "        [-0.06447183],\n",
       "        [-0.14789553],\n",
       "        [-0.07957099],\n",
       "        [ 0.1713216 ],\n",
       "        [-0.0338519 ],\n",
       "        [-0.02955236],\n",
       "        [-0.11578908],\n",
       "        [-0.12388714],\n",
       "        [ 0.14687401],\n",
       "        [ 0.12730621],\n",
       "        [-0.16415696],\n",
       "        [ 0.1253138 ],\n",
       "        [ 0.11554205],\n",
       "        [-0.11450952],\n",
       "        [ 0.01781917],\n",
       "        [ 0.1098827 ],\n",
       "        [-0.02133031],\n",
       "        [ 0.07997409],\n",
       "        [-0.16291407],\n",
       "        [-0.1300387 ],\n",
       "        [ 0.17931718],\n",
       "        [-0.15095243],\n",
       "        [ 0.00846101],\n",
       "        [ 0.82265407],\n",
       "        [ 0.16142061],\n",
       "        [-0.10799992],\n",
       "        [-0.04209042],\n",
       "        [ 0.04785764],\n",
       "        [ 0.18282692],\n",
       "        [-0.19935209],\n",
       "        [-0.21966846],\n",
       "        [ 0.08744843],\n",
       "        [-0.09865076],\n",
       "        [ 0.31348917],\n",
       "        [-0.21292847],\n",
       "        [ 0.05400446],\n",
       "        [ 0.05889324],\n",
       "        [ 0.0183069 ],\n",
       "        [ 0.25326526],\n",
       "        [-0.17400135]], dtype=float32),\n",
       " array([0.17191713], dtype=float32)]"
      ]
     },
     "execution_count": 11,
     "metadata": {},
     "output_type": "execute_result"
    }
   ],
   "source": [
    "model.get_weights()"
   ]
  },
  {
   "cell_type": "code",
   "execution_count": 12,
   "metadata": {},
   "outputs": [],
   "source": [
    "# Step 2: Helper Functions\n",
    "# Function to decode reviews\n",
    "def decode_review(encoded_review):\n",
    "    return ' '.join([reverse_word_index.get(i - 3, '?') for i in encoded_review])\n",
    "\n",
    "# Function to preprocess user input\n",
    "def preprocess_text(text):\n",
    "    words = text.lower().split()\n",
    "    encoded_review = [word_index.get(word, 2) + 3 for word in words]\n",
    "    padded_review = sequence.pad_sequences([encoded_review], maxlen=500)\n",
    "    return padded_review"
   ]
  },
  {
   "cell_type": "code",
   "execution_count": 13,
   "metadata": {},
   "outputs": [],
   "source": [
    "### Prediction  function\n",
    "\n",
    "def predict_sentiment(review):\n",
    "    preprocessed_input=preprocess_text(review)\n",
    "\n",
    "    prediction=model.predict(preprocessed_input)\n",
    "\n",
    "    sentiment = 'Positive' if prediction[0][0] > 0.5 else 'Negative'\n",
    "    \n",
    "    return sentiment, prediction[0][0]\n",
    "\n"
   ]
  },
  {
   "cell_type": "code",
   "execution_count": 14,
   "metadata": {},
   "outputs": [
    {
     "name": "stdout",
     "output_type": "stream",
     "text": [
      "\u001b[1m1/1\u001b[0m \u001b[32m━━━━━━━━━━━━━━━━━━━━\u001b[0m\u001b[37m\u001b[0m \u001b[1m1s\u001b[0m 634ms/step\n",
      "Review: This movie was fantastic! The acting was great and the plot was thrilling.\n",
      "Sentiment: Negative\n",
      "Prediction Score: 0.3019924461841583\n"
     ]
    }
   ],
   "source": [
    "# Step 4: User Input and Prediction\n",
    "# Example review for prediction\n",
    "example_review = \"This movie was fantastic! The acting was great and the plot was thrilling.\"\n",
    "\n",
    "sentiment,score=predict_sentiment(example_review)\n",
    "\n",
    "print(f'Review: {example_review}')\n",
    "print(f'Sentiment: {sentiment}')\n",
    "print(f'Prediction Score: {score}')"
   ]
  },
  {
   "cell_type": "code",
   "execution_count": null,
   "metadata": {},
   "outputs": [],
   "source": []
  },
  {
   "cell_type": "code",
   "execution_count": null,
   "metadata": {},
   "outputs": [],
   "source": []
  },
  {
   "cell_type": "code",
   "execution_count": null,
   "metadata": {},
   "outputs": [],
   "source": []
  },
  {
   "cell_type": "code",
   "execution_count": null,
   "metadata": {},
   "outputs": [],
   "source": []
  }
 ],
 "metadata": {
  "kernelspec": {
   "display_name": "base",
   "language": "python",
   "name": "python3"
  },
  "language_info": {
   "codemirror_mode": {
    "name": "ipython",
    "version": 3
   },
   "file_extension": ".py",
   "mimetype": "text/x-python",
   "name": "python",
   "nbconvert_exporter": "python",
   "pygments_lexer": "ipython3",
   "version": "3.12.7"
  }
 },
 "nbformat": 4,
 "nbformat_minor": 2
}
